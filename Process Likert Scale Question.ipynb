{
 "cells": [
  {
   "cell_type": "code",
   "execution_count": 21,
   "id": "e64a92f6",
   "metadata": {},
   "outputs": [],
   "source": [
    "import pandas as pd\n",
    "\n",
    "def process_likert_responses(file_path):\n",
    "    df = pd.read_csv(file_path)\n",
    "\n",
    "    # Initialize a dictionary to store results\n",
    "    results = {}\n",
    "    \n",
    "    # Define keywords that are likely in Likert scale questions\n",
    "    likert_keywords = ['likely', 'agree', 'satisfied', 'comfortable', 'important', 'degree']\n",
    "    \n",
    "    # Iterate over each question\n",
    "    for column in df.columns:\n",
    "        # Check if the column name contains any Likert scale keywords\n",
    "        if any(keyword in column.lower() for keyword in likert_keywords):\n",
    "            # Count occurrences of each rating (1-5)\n",
    "            ratings_count = [df[column].tolist().count(i) for i in range(1, 6)]\n",
    "            # Store the result in the dictionary\n",
    "            results[column] = ratings_count\n",
    "\n",
    "    for question, counts in results.items():\n",
    "        print(f\"{question}: {counts}\")\n",
    "        print(\"--------------------------------------------------------------\")"
   ]
  },
  {
   "cell_type": "code",
   "execution_count": 22,
   "id": "86368448",
   "metadata": {},
   "outputs": [
    {
     "name": "stdout",
     "output_type": "stream",
     "text": [
      "On a scale of 1 to 5, where 1 indicates not likely at all and 5 indicates extremely likely, how would you rate the overall impact of AI tools on your department’s workflow, productivity, and outcomes? : [1, 0, 1, 2, 4]\n",
      "--------------------------------------------------------------\n",
      "On a scale of 1 to 5, where 1 indicates not likely at all and 5 indicates extremely likely, how would you rate the overall effectiveness of the AI tools in performing their intended tasks and meeting your department’s needs? : [0, 1, 2, 4, 1]\n",
      "--------------------------------------------------------------\n",
      "On a scale of 1 to 5, where 1 indicates not likely at all and 5 indicates extremely likely, how comfortable are you now with integrating AI technologies into the your department after having used them?: [0, 1, 1, 4, 2]\n",
      "--------------------------------------------------------------\n",
      "To what extent do you agree or disagree with the following statement: \"I am concerned that the implementation of AI tools might replace my role or reduce my significance within the company's workflow.: [3, 4, 1, 0, 0]\n",
      "--------------------------------------------------------------\n",
      "On a scale of 1 to 5, where 1 indicates not likely at all and 5 indicates extremely likely , how would you rate the performance of AI tools in terms of improving your task delivery speed?: [1, 0, 2, 4, 1]\n",
      "--------------------------------------------------------------\n",
      "On a scale of 1 to 5, where 1 indicates not likely at all and 5 indicates extremely likely, how much have you noticed changes in the quality of your work since implementing these AI tools?: [2, 0, 4, 2, 0]\n",
      "--------------------------------------------------------------\n",
      "On a scale of 1 to 5, where 1 indicates not likely at all and 5 indicates extremely likely, how have these tools affected your ability to manage and complete complex tasks?: [2, 2, 0, 3, 1]\n",
      "--------------------------------------------------------------\n",
      "On a scale of 1 to 5, where 1 indicates not likely at all and 5 indicates extremely likely, to what extent have the AI tools improved your overall work completion rate?: [2, 0, 2, 4, 0]\n",
      "--------------------------------------------------------------\n",
      "On a scale of 1 to 5, where 1 indicates not likely at all and 5 indicates extremely likely enhanced it, how have these tools influenced your ability to make data-driven decisions?: [2, 0, 6, 0, 0]\n",
      "--------------------------------------------------------------\n",
      "On a scale of 1 to 5, where 1 indicates very poor and 5 indicates excellent, To what degree have the AI tools met your initial expectations in terms of improving productivity and performance?: [0, 0, 3, 4, 1]\n",
      "--------------------------------------------------------------\n",
      "On a scale of 1 to 5, where 1 indicates not likely at all and 5 indicates extremely likely, how would you rate the overall impact of this tool in your performance and productivity?: [0, 0, 1, 0, 0]\n",
      "--------------------------------------------------------------\n",
      "On a scale of 1 to 5, where 1 indicates not likely at all and 5 indicates extremely likely, how would you rate the overall impact of this tool in your performance and productivity?.1: [0, 0, 1, 0, 1]\n",
      "--------------------------------------------------------------\n",
      "On a scale of 1 to 5, where 1 indicates not likely at all and 5 indicates extremely likely, how would you rate the overall impact of this tool in your performance and productivity?.2: [0, 1, 1, 2, 1]\n",
      "--------------------------------------------------------------\n",
      "On a scale of 1 to 5, where 1 indicates not likely at all and 5 indicates extremely likely, how would you rate the overall impact of this tool in your performance and productivity?.3: [1, 0, 0, 0, 0]\n",
      "--------------------------------------------------------------\n",
      "On a scale of 1 to 5, where 1 indicates not likely at all and 5 indicates extremely likely, how would you rate the overall impact of this tool in your performance and productivity?.4: [0, 0, 0, 0, 0]\n",
      "--------------------------------------------------------------\n"
     ]
    }
   ],
   "source": [
    "# Example usage\n",
    "process_likert_responses('/home/shuvamsinghhamal/Desktop/Interview Data/Second Interview Data/Post AI Tool Implementation Interview.csv')\n"
   ]
  },
  {
   "cell_type": "code",
   "execution_count": null,
   "id": "fac68b36",
   "metadata": {},
   "outputs": [],
   "source": []
  }
 ],
 "metadata": {
  "kernelspec": {
   "display_name": "Python 3",
   "language": "python",
   "name": "python3"
  },
  "language_info": {
   "codemirror_mode": {
    "name": "ipython",
    "version": 3
   },
   "file_extension": ".py",
   "mimetype": "text/x-python",
   "name": "python",
   "nbconvert_exporter": "python",
   "pygments_lexer": "ipython3",
   "version": "3.8.8"
  }
 },
 "nbformat": 4,
 "nbformat_minor": 5
}
